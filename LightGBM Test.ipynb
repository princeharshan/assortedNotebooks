{
 "cells": [
  {
   "cell_type": "markdown",
   "metadata": {
    "_uuid": "4029d9b45603d36b238adeb0bf9ce3bfbe5333b5"
   },
   "source": [
    "# Sai Ram"
   ]
  },
  {
   "cell_type": "markdown",
   "metadata": {
    "_uuid": "e76cd532a11cb8ee64a71888b738de2c85b7836e"
   },
   "source": [
    "https://www.kaggle.com/c/santander-customer-transaction-prediction"
   ]
  },
  {
   "cell_type": "code",
   "execution_count": 2,
   "metadata": {
    "_uuid": "b261cc4346ecbdc01cb7d89c9bb3847419997c1c"
   },
   "outputs": [
    {
     "name": "stderr",
     "output_type": "stream",
     "text": [
      "Using TensorFlow backend.\n"
     ]
    }
   ],
   "source": [
    "import os\n",
    "import numpy as np\n",
    "import pandas as pd\n",
    "from datetime import datetime, timedelta\n",
    "import time\n",
    "import matplotlib.pyplot as plt\n",
    "import tensorflow as tf\n",
    "from keras.models import Sequential\n",
    "from keras.layers.core import Dense, Activation\n",
    "from keras.callbacks import EarlyStopping\n",
    "from keras.callbacks import ModelCheckpoint\n",
    "import seaborn as sns\n",
    "from sklearn import metrics, preprocessing\n",
    "from sklearn.metrics import roc_curve, auc, roc_auc_score\n",
    "from sklearn.model_selection import KFold, train_test_split\n",
    "\n",
    "%matplotlib inline\n",
    "%config InlineBackend.figure_format = 'retina'"
   ]
  },
  {
   "cell_type": "code",
   "execution_count": 3,
   "metadata": {
    "_uuid": "5b049d0d71a9d137538e789a9a377092212f1083"
   },
   "outputs": [],
   "source": [
    "random_state = 42\n",
    "np.random.seed(random_state)"
   ]
  },
  {
   "cell_type": "code",
   "execution_count": 4,
   "metadata": {
    "_uuid": "13f5559485e7787f965c767114a038bc6a31dfe9"
   },
   "outputs": [],
   "source": [
    "# read data\n",
    "\n",
    "df_train = pd.read_csv('train.csv')\n",
    "df_test = pd.read_csv('test.csv')\n",
    "\n",
    "test_ID = df_test['ID_code'].values\n",
    "Y = df_train.target.values.astype(np.float32)\n",
    "\n",
    "df_train = df_train.drop(['ID_code','target'], axis=1)\n",
    "df_test = df_test.drop(['ID_code'], axis=1)\n",
    "\n",
    "X = pd.concat([df_train,df_test], axis=0, sort=False, ignore_index=True).values\n",
    "\n",
    "del df_train, df_test"
   ]
  },
  {
   "cell_type": "code",
   "execution_count": 5,
   "metadata": {
    "_uuid": "d848a8bbb3a63a8168f0c413500a4e82751cf0b6"
   },
   "outputs": [],
   "source": [
    "# start training of GaussianNB\n",
    "\n",
    "from sklearn.pipeline import make_pipeline\n",
    "from sklearn.naive_bayes import GaussianNB\n",
    "from sklearn.preprocessing import QuantileTransformer\n",
    "\n",
    "start_tiem = time.time()"
   ]
  },
  {
   "cell_type": "code",
   "execution_count": null,
   "metadata": {
    "_uuid": "3d38314372a088e5f61b72558307f28fac7bf9b5"
   },
   "outputs": [],
   "source": [
    "_X = X[:len(Y)]\n",
    "Xt = X[len(Y):]\n",
    "X = _X"
   ]
  },
  {
   "cell_type": "code",
   "execution_count": null,
   "metadata": {
    "_uuid": "901af331bed0a2943c2c4a23fc60ca499fc2505d"
   },
   "outputs": [],
   "source": [
    "clf = make_pipeline(QuantileTransformer(output_distribution='normal'), GaussianNB())\n",
    "\n",
    "clf.fit( X, Y )\n",
    "\n",
    "y_diff = Y - clf.predict_proba( X )[:,1]\n",
    "yt_nb = clf.predict_proba( Xt )[:,1]\n",
    "\n",
    "Y = y_diff"
   ]
  },
  {
   "cell_type": "code",
   "execution_count": null,
   "metadata": {
    "_uuid": "9962e0c40212c66c075dfe7feb5ed47457a02043"
   },
   "outputs": [
    {
     "name": "stderr",
     "output_type": "stream",
     "text": [
      "/anaconda3/lib/python3.7/site-packages/lightgbm/__init__.py:46: UserWarning: Starting from version 2.2.1, the library file in distribution wheels for macOS is built by the Apple Clang (Xcode_9.4.1) compiler.\n",
      "This means that in case of installing LightGBM from PyPI via the ``pip install lightgbm`` command, you don't need to install the gcc compiler anymore.\n",
      "Instead of that, you need to install the OpenMP library, which is required for running LightGBM on the system with the Apple Clang compiler.\n",
      "You can install the OpenMP library by the following command: ``brew install libomp``.\n",
      "  \"You can install the OpenMP library by the following command: ``brew install libomp``.\", UserWarning)\n"
     ]
    }
   ],
   "source": [
    "# start training of LightGBM\n",
    "\n",
    "import lightgbm as lgb\n",
    "from sklearn.model_selection import KFold"
   ]
  },
  {
   "cell_type": "code",
   "execution_count": null,
   "metadata": {
    "_uuid": "1752a4538788cbf4995d48b6318fd997e73e27c6"
   },
   "outputs": [],
   "source": [
    "n_predict = 0\n",
    "valid = np.zeros( (len(test_ID),) )\n",
    "for fold_id, (IDX_train, IDX_test) in enumerate(KFold(n_splits=10, random_state=random_state, shuffle=False).split(Y)):\n",
    "\tX_train = X[IDX_train]\n",
    "\tX_test = X[IDX_test]\n",
    "\tY_train = Y[IDX_train]\n",
    "\tY_test = Y[IDX_test]\n",
    "\n",
    "\tlgb_params = {\n",
    "\t\t\"objective\" : \"regression\",\n",
    "\t\t\"metric\" : \"mse\",\n",
    "\t\t\"max_depth\" : 2,\n",
    "\t\t\"num_leaves\" : 2,\n",
    "\t\t\"learning_rate\" : 0.055,\n",
    "\t\t\"bagging_fraction\" : 0.3,\n",
    "\t\t\"feature_fraction\" : 0.15,\n",
    "\t\t\"lambda_l1\" : 5,\n",
    "\t\t\"lambda_l2\" : 5,\n",
    "\t\t\"bagging_seed\" : fold_id+random_state,\n",
    "\t\t\"verbosity\" : 1,\n",
    "\t\t\"seed\": fold_id+random_state\n",
    "\t}\n",
    "\n",
    "\tlgtrain = lgb.Dataset(X_train, label=Y_train)\n",
    "\tlgtest = lgb.Dataset(X_test, label=Y_test)\n",
    "\tevals_result = {}\n",
    "\tlgb_clf = lgb.train(lgb_params, lgtrain, 35000, \n",
    "\t\t\t\t\t\tvalid_sets=[lgtrain, lgtest], \n",
    "\t\t\t\t\t\tearly_stopping_rounds=500, \n",
    "\t\t\t\t\t\tverbose_eval=2000, \n",
    "\t\t\t\t\t\tevals_result=evals_result)\n",
    "\tvalid += lgb_clf.predict( Xt ).reshape((-1,))\n",
    "\tn_predict += 1\n",
    "\tif time.time() - start_tiem > 6900:\n",
    "\t\tbreak"
   ]
  },
  {
   "cell_type": "code",
   "execution_count": null,
   "metadata": {
    "_uuid": "eaf55b64dbbe8b104f0a0f373c8ae45e0e919542"
   },
   "outputs": [],
   "source": [
    "valid = (valid / n_predict) + yt_nb\n",
    "valid = np.clip(valid, 0.0, 1.0 )\n",
    "\n",
    "print('save result.')\n",
    "pd.DataFrame({'ID_code':test_ID,'target':valid}).to_csv('submission.csv',index=False)\n",
    "print('done.')"
   ]
  },
  {
   "cell_type": "code",
   "execution_count": null,
   "metadata": {
    "_uuid": "ece1f77f3b03e719ed569913255768d9d2c0e2d2"
   },
   "outputs": [],
   "source": []
  },
  {
   "cell_type": "code",
   "execution_count": null,
   "metadata": {},
   "outputs": [],
   "source": []
  },
  {
   "cell_type": "code",
   "execution_count": null,
   "metadata": {},
   "outputs": [],
   "source": []
  }
 ],
 "metadata": {
  "kernelspec": {
   "display_name": "Python 3",
   "language": "python",
   "name": "python3"
  },
  "language_info": {
   "codemirror_mode": {
    "name": "ipython",
    "version": 3
   },
   "file_extension": ".py",
   "mimetype": "text/x-python",
   "name": "python",
   "nbconvert_exporter": "python",
   "pygments_lexer": "ipython3",
   "version": "3.7.1"
  }
 },
 "nbformat": 4,
 "nbformat_minor": 2
}
