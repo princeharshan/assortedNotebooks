{
  "cells": [
    {
      "metadata": {
        "_uuid": "7d2445495ba5fdc281957dd24e822e3c2a453947"
      },
      "cell_type": "markdown",
      "source": "# Sai Ram"
    },
    {
      "metadata": {
        "trusted": true,
        "_uuid": "66015d566ebbede2e7cb4d7abfee2825fa04f1ea"
      },
      "cell_type": "code",
      "source": "import pandas as pd\nimport numpy as np\nimport lightgbm as lgb\n#import xgboost as xgb\nfrom scipy.sparse import vstack, csr_matrix, save_npz, load_npz\nfrom sklearn.preprocessing import LabelEncoder, OneHotEncoder\nfrom sklearn.model_selection import StratifiedKFold\n#from sklearn.metrics import roc_auc_score\nimport gc\ngc.enable()",
      "execution_count": 2,
      "outputs": []
    },
    {
      "metadata": {
        "trusted": true,
        "_uuid": "b9e0a0b6dac23a189398f50c555bdf1f4779ae53"
      },
      "cell_type": "code",
      "source": "dtypes = {\n        'MachineIdentifier':                                    'category',\n        'ProductName':                                          'category',\n        'EngineVersion':                                        'category',\n        'AppVersion':                                           'category',\n        'AvSigVersion':                                         'category',\n        'IsBeta':                                               'int8',\n        'RtpStateBitfield':                                     'float16',\n        'IsSxsPassiveMode':                                     'int8',\n        'DefaultBrowsersIdentifier':                            'float16',\n        'AVProductStatesIdentifier':                            'float32',\n        'AVProductsInstalled':                                  'float16',\n        'AVProductsEnabled':                                    'float16',\n        'HasTpm':                                               'int8',\n        'CountryIdentifier':                                    'int16',\n        'CityIdentifier':                                       'float32',\n        'OrganizationIdentifier':                               'float16',\n        'GeoNameIdentifier':                                    'float16',\n        'LocaleEnglishNameIdentifier':                          'int8',\n        'Platform':                                             'category',\n        'Processor':                                            'category',\n        'OsVer':                                                'category',\n        'OsBuild':                                              'int16',\n        'OsSuite':                                              'int16',\n        'OsPlatformSubRelease':                                 'category',\n        'OsBuildLab':                                           'category',\n        'SkuEdition':                                           'category',\n        'IsProtected':                                          'float16',\n        'AutoSampleOptIn':                                      'int8',\n        'PuaMode':                                              'category',\n        'SMode':                                                'float16',\n        'IeVerIdentifier':                                      'float16',\n        'SmartScreen':                                          'category',\n        'Firewall':                                             'float16',\n        'UacLuaenable':                                         'float32',\n        'Census_MDC2FormFactor':                                'category',\n        'Census_DeviceFamily':                                  'category',\n        'Census_OEMNameIdentifier':                             'float16',\n        'Census_OEMModelIdentifier':                            'float32',\n        'Census_ProcessorCoreCount':                            'float16',\n        'Census_ProcessorManufacturerIdentifier':               'float16',\n        'Census_ProcessorModelIdentifier':                      'float16',\n        'Census_ProcessorClass':                                'category',\n        'Census_PrimaryDiskTotalCapacity':                      'float32',\n        'Census_PrimaryDiskTypeName':                           'category',\n        'Census_SystemVolumeTotalCapacity':                     'float32',\n        'Census_HasOpticalDiskDrive':                           'int8',\n        'Census_TotalPhysicalRAM':                              'float32',\n        'Census_ChassisTypeName':                               'category',\n        'Census_InternalPrimaryDiagonalDisplaySizeInInches':    'float16',\n        'Census_InternalPrimaryDisplayResolutionHorizontal':    'float16',\n        'Census_InternalPrimaryDisplayResolutionVertical':      'float16',\n        'Census_PowerPlatformRoleName':                         'category',\n        'Census_InternalBatteryType':                           'category',\n        'Census_InternalBatteryNumberOfCharges':                'float32',\n        'Census_OSVersion':                                     'category',\n        'Census_OSArchitecture':                                'category',\n        'Census_OSBranch':                                      'category',\n        'Census_OSBuildNumber':                                 'int16',\n        'Census_OSBuildRevision':                               'int32',\n        'Census_OSEdition':                                     'category',\n        'Census_OSSkuName':                                     'category',\n        'Census_OSInstallTypeName':                             'category',\n        'Census_OSInstallLanguageIdentifier':                   'float16',\n        'Census_OSUILocaleIdentifier':                          'int16',\n        'Census_OSWUAutoUpdateOptionsName':                     'category',\n        'Census_IsPortableOperatingSystem':                     'int8',\n        'Census_GenuineStateName':                              'category',\n        'Census_ActivationChannel':                             'category',\n        'Census_IsFlightingInternal':                           'float16',\n        'Census_IsFlightsDisabled':                             'float16',\n        'Census_FlightRing':                                    'category',\n        'Census_ThresholdOptIn':                                'float16',\n        'Census_FirmwareManufacturerIdentifier':                'float16',\n        'Census_FirmwareVersionIdentifier':                     'float32',\n        'Census_IsSecureBootEnabled':                           'int8',\n        'Census_IsWIMBootEnabled':                              'float16',\n        'Census_IsVirtualDevice':                               'float16',\n        'Census_IsTouchEnabled':                                'int8',\n        'Census_IsPenCapable':                                  'int8',\n        'Census_IsAlwaysOnAlwaysConnectedCapable':              'float16',\n        'Wdft_IsGamer':                                         'float16',\n        'Wdft_RegionIdentifier':                                'float16',\n        'HasDetections':                                        'int8'\n        }",
      "execution_count": 3,
      "outputs": []
    },
    {
      "metadata": {
        "trusted": true,
        "_uuid": "04d3e1d9684cfa0519002d84a2bc6dad481d7865"
      },
      "cell_type": "code",
      "source": "print('Download Train and Test Data.\\n')\ntrain = pd.read_csv('../input/train.csv', dtype=dtypes, low_memory=True)\ntrain['MachineIdentifier'] = train.index.astype('uint32')\ntest  = pd.read_csv('../input/test.csv',  dtype=dtypes, low_memory=True)\ntest['MachineIdentifier']  = test.index.astype('uint32')\n",
      "execution_count": null,
      "outputs": [
        {
          "output_type": "stream",
          "text": "Download Train and Test Data.\n\n",
          "name": "stdout"
        }
      ]
    },
    {
      "metadata": {
        "_uuid": "8f2839f25d086af736a60e9eeb907d3b93b6e0e5",
        "_cell_guid": "b1076dfc-b9ad-4769-8c92-a6c4dae69d19",
        "trusted": true
      },
      "cell_type": "code",
      "source": "print('Download Train and Test Data.\\n')\ntrain = pd.read_csv('../input/train.csv', dtype=dtypes, low_memory=True)\ntrain['MachineIdentifier'] = train.index.astype('uint32')\ntest  = pd.read_csv('../input/test.csv',  dtype=dtypes, low_memory=True)\ntest['MachineIdentifier']  = test.index.astype('uint32')\n\ngc.collect()\n\nprint('Transform all features to category.\\n')\nfor usecol in train.columns.tolist()[1:-1]:\n\n    train[usecol] = train[usecol].astype('str')\n    test[usecol] = test[usecol].astype('str')\n    \n    #Fit LabelEncoder\n    le = LabelEncoder().fit(\n            np.unique(train[usecol].unique().tolist()+\n                      test[usecol].unique().tolist()))\n\n    #At the end 0 will be used for dropped values\n    train[usecol] = le.transform(train[usecol])+1\n    test[usecol]  = le.transform(test[usecol])+1\n\n    agg_tr = (train\n              .groupby([usecol])\n              .aggregate({'MachineIdentifier':'count'})\n              .reset_index()\n              .rename({'MachineIdentifier':'Train'}, axis=1))\n    agg_te = (test\n              .groupby([usecol])\n              .aggregate({'MachineIdentifier':'count'})\n              .reset_index()\n              .rename({'MachineIdentifier':'Test'}, axis=1))\n\n    agg = pd.merge(agg_tr, agg_te, on=usecol, how='outer').replace(np.nan, 0)\n    #Select values with more than 1000 observations\n    agg = agg[(agg['Train'] > 1000)].reset_index(drop=True)\n    agg['Total'] = agg['Train'] + agg['Test']\n    #Drop unbalanced values\n    agg = agg[(agg['Train'] / agg['Total'] > 0.2) & (agg['Train'] / agg['Total'] < 0.8)]\n    agg[usecol+'Copy'] = agg[usecol]\n\n    train[usecol] = (pd.merge(train[[usecol]], \n                              agg[[usecol, usecol+'Copy']], \n                              on=usecol, how='left')[usecol+'Copy']\n                     .replace(np.nan, 0).astype('int').astype('category'))\n\n    test[usecol]  = (pd.merge(test[[usecol]], \n                              agg[[usecol, usecol+'Copy']], \n                              on=usecol, how='left')[usecol+'Copy']\n                     .replace(np.nan, 0).astype('int').astype('category'))\n\n    del le, agg_tr, agg_te, agg, usecol\n    gc.collect()\n          \ny_train = np.array(train['HasDetections'])\ntrain_ids = train.index\ntest_ids  = test.index\n\ndel train['HasDetections'], train['MachineIdentifier'], test['MachineIdentifier']\ngc.collect()\n\nprint(\"If you don't want use Sparse Matrix choose Kernel Version 2 to get simple solution.\\n\")\n\nprint('--------------------------------------------------------------------------------------------------------')\nprint('Transform Data to Sparse Matrix.')\nprint('Sparse Matrix can be used to fit a lot of models, eg. XGBoost, LightGBM, Random Forest, K-Means and etc.')\nprint('To concatenate Sparse Matrices by column use hstack()')\nprint('Read more about Sparse Matrix https://docs.scipy.org/doc/scipy/reference/sparse.html')\nprint('Good Luck!')\nprint('--------------------------------------------------------------------------------------------------------')\n\n#Fit OneHotEncoder\nohe = OneHotEncoder(categories='auto', sparse=True, dtype='uint8').fit(train)\n\n#Transform data using small groups to reduce memory usage\nm = 100000\ntrain = vstack([ohe.transform(train[i*m:(i+1)*m]) for i in range(train.shape[0] // m + 1)])\ntest  = vstack([ohe.transform(test[i*m:(i+1)*m])  for i in range(test.shape[0] // m +  1)])\nsave_npz('train.npz', train, compressed=True)\nsave_npz('test.npz',  test,  compressed=True)\n\ndel ohe, train, test\ngc.collect()\n\nskf = StratifiedKFold(n_splits=5, shuffle=True, random_state=42)\nskf.get_n_splits(train_ids, y_train)\n\nlgb_test_result  = np.zeros(test_ids.shape[0])\n#lgb_train_result = np.zeros(train_ids.shape[0])\n#xgb_test_result  = np.zeros(test_ids.shape[0])\n#xgb_train_result = np.zeros(train_ids.shape[0])\ncounter = 0\n\nprint('\\nLightGBM\\n')\n\nfor train_index, test_index in skf.split(train_ids, y_train):\n    \n    print('Fold {}\\n'.format(counter + 1))\n    \n    train = load_npz('train.npz')\n    X_fit = vstack([train[train_index[i*m:(i+1)*m]] for i in range(train_index.shape[0] // m + 1)])\n    X_val = vstack([train[test_index[i*m:(i+1)*m]]  for i in range(test_index.shape[0] //  m + 1)])\n    X_fit, X_val = csr_matrix(X_fit, dtype='float32'), csr_matrix(X_val, dtype='float32')\n    y_fit, y_val = y_train[train_index], y_train[test_index]\n    \n    del train\n    gc.collect()\n\n    lgb_model = lgb.LGBMClassifier(max_depth=-1,\n                                   n_estimators=30000,\n                                   learning_rate=0.05,\n                                   num_leaves=2**12-1,\n                                   colsample_bytree=0.28,\n                                   objective='binary', \n                                   n_jobs=-1)\n                                   \n    #xgb_model = xgb.XGBClassifier(max_depth=6,\n    #                              n_estimators=30000,\n    #                              colsample_bytree=0.2,\n    #                              learning_rate=0.1,\n    #                              objective='binary:logistic', \n    #                              n_jobs=-1)\n    \n                               \n    lgb_model.fit(X_fit, y_fit, eval_metric='auc', \n                  eval_set=[(X_val, y_val)], \n                  verbose=100, early_stopping_rounds=100)\n                  \n    #xgb_model.fit(X_fit, y_fit, eval_metric='auc', \n    #              eval_set=[(X_val, y_val)], \n    #              verbose=1000, early_stopping_rounds=300)\n\n    #lgb_train_result[test_index] += lgb_model.predict_proba(X_val)[:,1]\n    #xgb_train_result[test_index] += xgb_model.predict_proba(X_val)[:,1]\n    \n    del X_fit, X_val, y_fit, y_val, train_index, test_index\n    gc.collect()\n    \n    test = load_npz('test.npz')\n    test = csr_matrix(test, dtype='float32')\n    lgb_test_result += lgb_model.predict_proba(test)[:,1]\n    #xgb_test_result += xgb_model.predict_proba(test)[:,1]\n    counter += 1\n    \n    del test\n    gc.collect()\n    \n    #Stop fitting to prevent time limit error\n    #if counter == 3 : break\n\n#print('\\nLigthGBM VAL AUC Score: {}'.format(roc_auc_score(y_train, lgb_train_result)))\n#print('\\nXGBoost VAL AUC Score: {}'.format(roc_auc_score(y_train, xgb_train_result)))\n\nsubmission = pd.read_csv('../input/sample_submission.csv')\nsubmission['HasDetections'] = lgb_test_result / counter\nsubmission.to_csv('lgb_submission.csv', index=False)\n#submission['HasDetections'] = xgb_test_result / counter\n#submission.to_csv('xgb_submission.csv', index=False)\n#submission['HasDetections'] = 0.5 * lgb_test_result / counter  + 0.5 * xgb_test_result / counter \n##submission.to_csv('lgb_xgb_submission.csv', index=False)\n\nprint('\\nDone.')",
      "execution_count": null,
      "outputs": []
    },
    {
      "metadata": {
        "trusted": true,
        "_uuid": "82d721ccd5e328bb9e27335b7570938d22b4827b"
      },
      "cell_type": "code",
      "source": "import dask.dataframe as dd",
      "execution_count": null,
      "outputs": []
    },
    {
      "metadata": {
        "trusted": true,
        "_uuid": "f96830f452c06875dee04fcccb010f3f93708c4e"
      },
      "cell_type": "code",
      "source": "import time\nstarttime = time.time()",
      "execution_count": null,
      "outputs": []
    },
    {
      "metadata": {
        "trusted": true,
        "_uuid": "10b4db216bae9e9c5beaa5cbca458b378b67a8c5"
      },
      "cell_type": "code",
      "source": "time.time() - starttime",
      "execution_count": null,
      "outputs": []
    },
    {
      "metadata": {
        "_cell_guid": "79c7e3d0-c299-4dcb-8224-4455121ee9b0",
        "_uuid": "d629ff2d2480ee46fbb7e2d37f6b5fab8052498a",
        "trusted": true
      },
      "cell_type": "code",
      "source": "random_state = 42\nnp.random.seed(random_state)",
      "execution_count": null,
      "outputs": []
    },
    {
      "metadata": {
        "_uuid": "700777aa9a0db8b2ce695597e01ad5e030d5317b"
      },
      "cell_type": "markdown",
      "source": "# ** Strategy **\n## ** Fingerprint like computation **** - append different variables as single identifier\n"
    },
    {
      "metadata": {
        "trusted": true,
        "_uuid": "3f90a40fa944b829cf19bfeb5e99704a510f5f8d"
      },
      "cell_type": "code",
      "source": "dtypes = {\n        'MachineIdentifier':                                    'object',\n        'ProductName':                                          'category',\n        'EngineVersion':                                        'category',\n        'AppVersion':                                           'category',\n        'AvSigVersion':                                         'category',\n        'IsBeta':                                               'int8',\n        'RtpStateBitfield':                                     'category',\n        'IsSxsPassiveMode':                                     'int8',\n        'DefaultBrowsersIdentifier':                            'category',\n        'AVProductStatesIdentifier':                            'category',\n        'AVProductsInstalled':                                  'category',\n        'AVProductsEnabled':                                    'category',\n        'HasTpm':                                               'int8',\n        'CountryIdentifier':                                    'int16',\n        'CityIdentifier':                                       'category',\n        'OrganizationIdentifier':                               'category',\n        'GeoNameIdentifier':                                    'category',\n        'LocaleEnglishNameIdentifier':                          'int8',\n        'Platform':                                             'category',\n        'Processor':                                            'category',\n        'OsVer':                                                'category',\n        'OsBuild':                                              'int16',\n        'OsSuite':                                              'int16',\n        'OsPlatformSubRelease':                                 'category',\n        'OsBuildLab':                                           'category',\n        'SkuEdition':                                           'category',\n        'IsProtected':                                          'category',\n        'AutoSampleOptIn':                                      'int8',\n        'PuaMode':                                              'category',\n        'SMode':                                                'category',\n        'IeVerIdentifier':                                      'category',\n        'SmartScreen':                                          'category',\n        'Firewall':                                             'category',\n        'UacLuaenable':                                         'category',\n        'Census_MDC2FormFactor':                                'category',\n        'Census_DeviceFamily':                                  'category',\n        'Census_OEMNameIdentifier':                             'category',\n        'Census_OEMModelIdentifier':                            'category',\n        'Census_ProcessorCoreCount':                            'category',\n        'Census_ProcessorManufacturerIdentifier':               'category',\n        'Census_ProcessorModelIdentifier':                      'category',\n        'Census_ProcessorClass':                                'category',\n        'Census_PrimaryDiskTotalCapacity':                      'float32',\n        'Census_PrimaryDiskTypeName':                           'category',\n        'Census_SystemVolumeTotalCapacity':                     'float32',\n        'Census_HasOpticalDiskDrive':                           'int8',\n        'Census_TotalPhysicalRAM':                              'float32',\n        'Census_ChassisTypeName':                               'category',\n        'Census_InternalPrimaryDiagonalDisplaySizeInInches':    'float32',\n        'Census_InternalPrimaryDisplayResolutionHorizontal':    'float32',\n        'Census_InternalPrimaryDisplayResolutionVertical':      'float32',\n        'Census_PowerPlatformRoleName':                         'category',\n        'Census_InternalBatteryType':                           'category',\n        'Census_InternalBatteryNumberOfCharges':                'float32',\n        'Census_OSVersion':                                     'category',\n        'Census_OSArchitecture':                                'category',\n        'Census_OSBranch':                                      'category',\n        'Census_OSBuildNumber':                                 'int16',\n        'Census_OSBuildRevision':                               'int32',\n        'Census_OSEdition':                                     'category',\n        'Census_OSSkuName':                                     'category',\n        'Census_OSInstallTypeName':                             'category',\n        'Census_OSInstallLanguageIdentifier':                   'category',\n        'Census_OSUILocaleIdentifier':                          'int16',\n        'Census_OSWUAutoUpdateOptionsName':                     'category',\n        'Census_IsPortableOperatingSystem':                     'int8',\n        'Census_GenuineStateName':                              'category',\n        'Census_ActivationChannel':                             'category',\n        'Census_IsFlightingInternal':                           'category',\n        'Census_IsFlightsDisabled':                             'category',\n        'Census_FlightRing':                                    'category',\n        'Census_ThresholdOptIn':                                'category',\n        'Census_FirmwareManufacturerIdentifier':                'category',\n        'Census_FirmwareVersionIdentifier':                     'category',\n        'Census_IsSecureBootEnabled':                           'int8',\n        'Census_IsWIMBootEnabled':                              'category',\n        'Census_IsVirtualDevice':                               'category',\n        'Census_IsTouchEnabled':                                'int8',\n        'Census_IsPenCapable':                                  'int8',\n        'Census_IsAlwaysOnAlwaysConnectedCapable':              'category',\n        'Wdft_IsGamer':                                         'category',\n        'Wdft_RegionIdentifier':                                'category',\n        'HasDetections':                                        'int8'\n        }",
      "execution_count": null,
      "outputs": []
    },
    {
      "metadata": {
        "trusted": true,
        "_uuid": "620b1c95782bfede169337e09b843b3f02b510f0"
      },
      "cell_type": "code",
      "source": "# dtypes = {\n#         'MachineIdentifier':                                    'category',\n#         'ProductName':                                          'category',\n#         'EngineVersion':                                        'category',\n#         'AppVersion':                                           'category',\n#         'AvSigVersion':                                         'category',\n#         'IsBeta':                                               'int8',\n#         'RtpStateBitfield':                                     'float16',\n#         'IsSxsPassiveMode':                                     'int8',\n#         'DefaultBrowsersIdentifier':                            'float16',\n#         'AVProductStatesIdentifier':                            'float32',\n#         'AVProductsInstalled':                                  'float16',\n#         'AVProductsEnabled':                                    'float16',\n#         'HasTpm':                                               'int8',\n#         'CountryIdentifier':                                    'int16',\n#         'CityIdentifier':                                       'float32',\n#         'OrganizationIdentifier':                               'float16',\n#         'GeoNameIdentifier':                                    'float16',\n#         'LocaleEnglishNameIdentifier':                          'int8',\n#         'Platform':                                             'category',\n#         'Processor':                                            'category',\n#         'OsVer':                                                'category',\n#         'OsBuild':                                              'int16',\n#         'OsSuite':                                              'int16',\n#         'OsPlatformSubRelease':                                 'category',\n#         'OsBuildLab':                                           'category',\n#         'SkuEdition':                                           'category',\n#         'IsProtected':                                          'float16',\n#         'AutoSampleOptIn':                                      'int8',\n#         'PuaMode':                                              'category',\n#         'SMode':                                                'float16',\n#         'IeVerIdentifier':                                      'float16',\n#         'SmartScreen':                                          'category',\n#         'Firewall':                                             'float16',\n#         'UacLuaenable':                                         'float32',\n#         'Census_MDC2FormFactor':                                'category',\n#         'Census_DeviceFamily':                                  'category',\n#         'Census_OEMNameIdentifier':                             'float16',\n#         'Census_OEMModelIdentifier':                            'float32',\n#         'Census_ProcessorCoreCount':                            'float16',\n#         'Census_ProcessorManufacturerIdentifier':               'float16',\n#         'Census_ProcessorModelIdentifier':                      'float16',\n#         'Census_ProcessorClass':                                'category',\n#         'Census_PrimaryDiskTotalCapacity':                      'float32',\n#         'Census_PrimaryDiskTypeName':                           'category',\n#         'Census_SystemVolumeTotalCapacity':                     'float32',\n#         'Census_HasOpticalDiskDrive':                           'int8',\n#         'Census_TotalPhysicalRAM':                              'float32',\n#         'Census_ChassisTypeName':                               'category',\n#         'Census_InternalPrimaryDiagonalDisplaySizeInInches':    'float16',\n#         'Census_InternalPrimaryDisplayResolutionHorizontal':    'float16',\n#         'Census_InternalPrimaryDisplayResolutionVertical':      'float16',\n#         'Census_PowerPlatformRoleName':                         'category',\n#         'Census_InternalBatteryType':                           'category',\n#         'Census_InternalBatteryNumberOfCharges':                'float32',\n#         'Census_OSVersion':                                     'category',\n#         'Census_OSArchitecture':                                'category',\n#         'Census_OSBranch':                                      'category',\n#         'Census_OSBuildNumber':                                 'int16',\n#         'Census_OSBuildRevision':                               'int32',\n#         'Census_OSEdition':                                     'category',\n#         'Census_OSSkuName':                                     'category',\n#         'Census_OSInstallTypeName':                             'category',\n#         'Census_OSInstallLanguageIdentifier':                   'float16',\n#         'Census_OSUILocaleIdentifier':                          'int16',\n#         'Census_OSWUAutoUpdateOptionsName':                     'category',\n#         'Census_IsPortableOperatingSystem':                     'int8',\n#         'Census_GenuineStateName':                              'category',\n#         'Census_ActivationChannel':                             'category',\n#         'Census_IsFlightingInternal':                           'float16',\n#         'Census_IsFlightsDisabled':                             'float16',\n#         'Census_FlightRing':                                    'category',\n#         'Census_ThresholdOptIn':                                'float16',\n#         'Census_FirmwareManufacturerIdentifier':                'float16',\n#         'Census_FirmwareVersionIdentifier':                     'float32',\n#         'Census_IsSecureBootEnabled':                           'int8',\n#         'Census_IsWIMBootEnabled':                              'float16',\n#         'Census_IsVirtualDevice':                               'float16',\n#         'Census_IsTouchEnabled':                                'int8',\n#         'Census_IsPenCapable':                                  'int8',\n#         'Census_IsAlwaysOnAlwaysConnectedCapable':              'float16',\n#         'Wdft_IsGamer':                                         'float16',\n#         'Wdft_RegionIdentifier':                                'float16',\n#         'HasDetections':                                        'int8'\n#         }",
      "execution_count": null,
      "outputs": []
    },
    {
      "metadata": {
        "trusted": true,
        "_uuid": "040c9aed941252b29f6383ded08b20129a217fd2"
      },
      "cell_type": "code",
      "source": "# read data\n\ndf_train = dd.read_csv('../input/train.csv',dtype=dtypes)\ndf_test = dd.read_csv('../input/test.csv',dtype=dtypes)\n\n# df_train = pd.read_csv('../input/train.csv', dtype=dtypes, low_memory=True, index_col='MachineIdentifier')\n# df_train['MachineIdentifier'] = df_train.index.astype('uint32')\n# df_test = pd.read_csv('../input/test.csv', dtype=dtypes, low_memory=True, index_col='MachineIdentifier')\n# df_test['MachineIdentifier'] = df_test.index.astype('uint32')",
      "execution_count": null,
      "outputs": []
    },
    {
      "metadata": {
        "trusted": true,
        "_uuid": "2e7ea99cde9fecae4b1c42217aec7e577e6d5001"
      },
      "cell_type": "code",
      "source": "df_train.set_index('MachineIdentifier')\n# df_test.set_index('MachineIdentifier')",
      "execution_count": null,
      "outputs": []
    },
    {
      "metadata": {
        "trusted": true,
        "_uuid": "8373008e636797df0f5da37b7a7cd671d80f9607"
      },
      "cell_type": "code",
      "source": "train_index = df_train.index.tolist()",
      "execution_count": null,
      "outputs": []
    },
    {
      "metadata": {
        "trusted": true,
        "_uuid": "5824ca5c2fec385fec97e1049dcd29807b6c2e74"
      },
      "cell_type": "code",
      "source": "# del test_index",
      "execution_count": null,
      "outputs": []
    },
    {
      "metadata": {
        "trusted": true,
        "_uuid": "baf8de89ca49a432401f44691ac0383d2044e5e0",
        "scrolled": true
      },
      "cell_type": "code",
      "source": "target = df_train.HasDetections.astype(int).apply(pd.to_numeric, downcast = 'unsigned')",
      "execution_count": null,
      "outputs": []
    },
    {
      "metadata": {
        "trusted": true,
        "_uuid": "6073fbb0c36795046ecdc40eebcfda9078379a48"
      },
      "cell_type": "code",
      "source": "df_train.drop('HasDetections',axis = 1, inplace=True)",
      "execution_count": null,
      "outputs": []
    },
    {
      "metadata": {
        "trusted": true,
        "_uuid": "9f3761042069607d422c0127c1028f677d34833e"
      },
      "cell_type": "code",
      "source": "df_train = pd.concat([df_train,df_test])",
      "execution_count": null,
      "outputs": []
    },
    {
      "metadata": {
        "trusted": true,
        "_uuid": "480381701210eb9170064ab106ebab1ee4246511"
      },
      "cell_type": "code",
      "source": "del df_test",
      "execution_count": null,
      "outputs": []
    },
    {
      "metadata": {
        "trusted": true,
        "_uuid": "4d2ca7bcf7bcede04fc35a9486b7a11d359df9e3"
      },
      "cell_type": "code",
      "source": "# df_train.head()",
      "execution_count": null,
      "outputs": []
    },
    {
      "metadata": {
        "trusted": true,
        "_uuid": "cd40cac4033e346e43700e983ab5db096fa45105"
      },
      "cell_type": "code",
      "source": "df_train.shape",
      "execution_count": null,
      "outputs": []
    },
    {
      "metadata": {
        "trusted": true,
        "_uuid": "de59436b4f461760b0e4590d4da0c6f3f8164682"
      },
      "cell_type": "code",
      "source": "for col in df_train.dtypes[df_train.dtypes == 'object'].index.tolist():\n    df_train[col] = df_train[col].astype('category')",
      "execution_count": null,
      "outputs": []
    },
    {
      "metadata": {
        "trusted": true,
        "_uuid": "6b13b3d6cd1feef4f3ab2228e9beecb4669343ab"
      },
      "cell_type": "code",
      "source": "def mem_usage(pandas_obj):\n    if isinstance(pandas_obj,pd.DataFrame):\n        usage_b = pandas_obj.memory_usage(deep=True).sum()\n    else: # we assume if not a df it's a series\n        usage_b = pandas_obj.memory_usage(deep=True)\n    usage_mb = usage_b / 1024 ** 2 # convert bytes to megabytes\n    return \"{:03.2f} MB\".format(usage_mb)",
      "execution_count": null,
      "outputs": []
    },
    {
      "metadata": {
        "trusted": true,
        "_uuid": "bbe4cd5309656e3ca3d42fb0f85288a6dbb5d236"
      },
      "cell_type": "code",
      "source": "mem_usage(df_train)",
      "execution_count": null,
      "outputs": []
    },
    {
      "metadata": {
        "trusted": true,
        "_uuid": "9ccee1038017d0f63a4452b7dcb32a58fd879cab"
      },
      "cell_type": "code",
      "source": "# df_train.head()",
      "execution_count": null,
      "outputs": []
    },
    {
      "metadata": {
        "trusted": true,
        "_uuid": "95a946381b8e830a08684799671506f846e14499"
      },
      "cell_type": "code",
      "source": "del dtypes",
      "execution_count": null,
      "outputs": []
    },
    {
      "metadata": {
        "trusted": true,
        "_uuid": "ef56defee13b454d6915b72c7a0598bbd6fb137a"
      },
      "cell_type": "code",
      "source": "from __future__ import print_function\nimport sys\n\nfor var, obj in locals().items():\n    print(var, sys.getsizeof(obj))",
      "execution_count": null,
      "outputs": []
    },
    {
      "metadata": {
        "trusted": true,
        "_uuid": "562cd54e8d2ee6bc443389ba6fd31e5650c6a544"
      },
      "cell_type": "code",
      "source": "# del _46",
      "execution_count": null,
      "outputs": []
    },
    {
      "metadata": {
        "trusted": true,
        "_uuid": "74c655a82c4b7c19944964b71135079b88688319"
      },
      "cell_type": "code",
      "source": "# pd.set_option('display.max_rows', 30)\n# pd.set_option('display.max_columns', 500)",
      "execution_count": null,
      "outputs": []
    },
    {
      "metadata": {
        "trusted": true,
        "_uuid": "281f5b7f5e805892e46e0d7e75b251a49dd178b0"
      },
      "cell_type": "code",
      "source": "numeric = ['Census_PrimaryDiskTotalCapacity','Census_SystemVolumeTotalCapacity','Census_TotalPhysicalRAM','Census_InternalPrimaryDiagonalDisplaySizeInInches','Census_InternalPrimaryDisplayResolutionHorizontal','Census_InternalPrimaryDisplayResolutionVertical','Census_InternalBatteryNumberOfCharges']",
      "execution_count": null,
      "outputs": []
    },
    {
      "metadata": {
        "trusted": true,
        "_uuid": "00900fa9fae73a227aabc8a56432a2b7b0ed5a44"
      },
      "cell_type": "code",
      "source": "# df_train = df_train.loc[:,~df_train.columns.isin(numeric)].apply(lambda x: pd.factorize(x)[0]).apply(pd.to_numeric, downcast = 'unsigned')",
      "execution_count": null,
      "outputs": []
    },
    {
      "metadata": {
        "trusted": true,
        "_uuid": "11db33873960e0b7415b5a9fb3226376f4d2dc88"
      },
      "cell_type": "code",
      "source": "# df_train.shape",
      "execution_count": null,
      "outputs": []
    },
    {
      "metadata": {
        "trusted": true,
        "_uuid": "366474b3662edafb7a66c3df0f0d91f51e788006"
      },
      "cell_type": "code",
      "source": "df_train.loc[:,df_train.columns.isin(numeric)] = df_train.loc[:,df_train.columns.isin(numeric)].fillna(0).astype(int).apply(pd.to_numeric, downcast = 'unsigned')",
      "execution_count": null,
      "outputs": []
    },
    {
      "metadata": {
        "trusted": true,
        "_uuid": "021583ffbb1e16a4943678a27333829314967d63",
        "scrolled": true
      },
      "cell_type": "code",
      "source": "# df_train = pd.concat([df_train, df_train_numrtic], axis=1, sort=False)",
      "execution_count": null,
      "outputs": []
    },
    {
      "metadata": {
        "trusted": true,
        "_uuid": "3144e7d559b454b8d47d7f8f085e51b923488f94"
      },
      "cell_type": "code",
      "source": "# del df_train_numrtic",
      "execution_count": null,
      "outputs": []
    },
    {
      "metadata": {
        "trusted": true,
        "_uuid": "2a4a47aaf73fa90e2e463b6601ee066ef0ba5081"
      },
      "cell_type": "code",
      "source": "# df_train.columns.tolist().isin(numeric)\n# np.setdiff1d(df_train.columns.tolist(),numeric)",
      "execution_count": null,
      "outputs": []
    },
    {
      "metadata": {
        "trusted": true,
        "_uuid": "4dc4c337569b5b6d543fb2d73c7548d553e58375"
      },
      "cell_type": "code",
      "source": "# pd.Categorical(df_train[column]).codes",
      "execution_count": null,
      "outputs": []
    },
    {
      "metadata": {
        "trusted": true,
        "_uuid": "db77e09cbe7477ca3e950bfdad48ac3a71cdcd92"
      },
      "cell_type": "code",
      "source": "for column in np.setdiff1d(df_train.columns.tolist(),numeric):\n    df_train[column] = pd.Categorical(df_train[column]).codes",
      "execution_count": null,
      "outputs": []
    },
    {
      "metadata": {
        "trusted": true,
        "_uuid": "7d584807faeef6f0cb149270924da4e32381b2cf"
      },
      "cell_type": "code",
      "source": "df_train.shape",
      "execution_count": null,
      "outputs": []
    },
    {
      "metadata": {
        "trusted": true,
        "_uuid": "bdb70b207b627851627e19026c398b565da38d8f"
      },
      "cell_type": "code",
      "source": "del numeric",
      "execution_count": null,
      "outputs": []
    },
    {
      "metadata": {
        "trusted": true,
        "_uuid": "ae33618a1bd5b3f75b7b4557f04d23d1a3553317"
      },
      "cell_type": "code",
      "source": "df_test = df_train.loc[~df_train.index.isin(train_index)]\ndf_train = df_train.loc[df_train.index.isin(train_index)]",
      "execution_count": null,
      "outputs": []
    },
    {
      "metadata": {
        "trusted": true,
        "_uuid": "6cac8e3fb4c9187973a4ac632f85be963c4c0a73"
      },
      "cell_type": "code",
      "source": "del train_index",
      "execution_count": null,
      "outputs": []
    },
    {
      "metadata": {
        "trusted": true,
        "_uuid": "8429a4a54bed2c315ae521c98d4cc92c294d2bcc"
      },
      "cell_type": "code",
      "source": "df_train = pd.concat([df_train, target], axis=1, sort=False)",
      "execution_count": null,
      "outputs": []
    },
    {
      "metadata": {
        "trusted": true,
        "_uuid": "d3f0e3b4454a8e95cbb9e98a055a410413f2c555"
      },
      "cell_type": "code",
      "source": "del target",
      "execution_count": null,
      "outputs": []
    },
    {
      "metadata": {
        "trusted": true,
        "_uuid": "45259e79f0c754a4910b14ba20059aeee96b43b5"
      },
      "cell_type": "code",
      "source": "# df_train = pd.concat([df_train_obj, df_train_num, target], axis=1, sort=False)\n# df_test = pd.concat([df_test_obj, df_test_num], axis=1, sort=False)",
      "execution_count": null,
      "outputs": []
    },
    {
      "metadata": {
        "trusted": true,
        "_uuid": "5ff9bdbe8dbc0cc6d26e6bb6a140977652665c23"
      },
      "cell_type": "code",
      "source": "# df_test.head()",
      "execution_count": null,
      "outputs": []
    },
    {
      "metadata": {
        "trusted": true,
        "_uuid": "372d31b269ee9b785e3b9fbc810f9cf5826214dd"
      },
      "cell_type": "code",
      "source": "mem_usage(df_test)",
      "execution_count": null,
      "outputs": []
    },
    {
      "metadata": {
        "trusted": true,
        "_uuid": "3e8e9f36b9e39786bd44253dca17a553bbed5f9a"
      },
      "cell_type": "code",
      "source": "mem_usage(df_train)",
      "execution_count": null,
      "outputs": []
    },
    {
      "metadata": {
        "trusted": true,
        "_uuid": "5f8d9abd9a848226c51940f62a94dcb6b86dbd03"
      },
      "cell_type": "code",
      "source": "# df_test.to_csv('../input/df_test.csv')\n# df_train.to_hdf('../input/df_train.csv')",
      "execution_count": null,
      "outputs": []
    },
    {
      "metadata": {
        "trusted": true,
        "_uuid": "d5ff4dc6a593fb02da0209b336b25f273a0a4a48",
        "scrolled": true
      },
      "cell_type": "code",
      "source": "test_ID = df_test.index.values\nY = df_train.HasDetections.values.astype(int)",
      "execution_count": null,
      "outputs": []
    },
    {
      "metadata": {
        "trusted": true,
        "_uuid": "e95c915cf7f44c6f10e56035b562fa188886c11a"
      },
      "cell_type": "code",
      "source": "df_train.reset_index(inplace=True)\ndf_test.reset_index(inplace=True)",
      "execution_count": null,
      "outputs": []
    },
    {
      "metadata": {
        "trusted": true,
        "_uuid": "874d88357d3ed999ec687cd18172578ffa4b0330"
      },
      "cell_type": "code",
      "source": "df_train = df_train.drop(['MachineIdentifier','HasDetections'], axis=1)\ndf_test = df_test.drop(['MachineIdentifier'], axis=1)",
      "execution_count": null,
      "outputs": []
    },
    {
      "metadata": {
        "trusted": true,
        "_uuid": "12cd9a2935fa090657396659807d7df98f201387"
      },
      "cell_type": "code",
      "source": "# df_train = df_train.fillna(value=0)\n# df_test = df_test.fillna(value=0)",
      "execution_count": null,
      "outputs": []
    },
    {
      "metadata": {
        "trusted": true,
        "_uuid": "1d70f5eecf4e97681d4e69f1d478aff6f240d86c"
      },
      "cell_type": "code",
      "source": "X = pd.concat([df_train,df_test], axis=0, sort=False, ignore_index=True).values",
      "execution_count": null,
      "outputs": []
    },
    {
      "metadata": {
        "trusted": true,
        "_uuid": "6ebcff3eac5f549296f16711526d5d962049c5dd"
      },
      "cell_type": "code",
      "source": "del df_train, df_test",
      "execution_count": null,
      "outputs": []
    },
    {
      "metadata": {
        "trusted": true,
        "_uuid": "14187e4aea6937f59e53e6e3d58aa1ca33f1f101"
      },
      "cell_type": "code",
      "source": "# start training of GaussianNB\n\nfrom sklearn.pipeline import make_pipeline\nfrom sklearn.naive_bayes import GaussianNB\nfrom sklearn.preprocessing import QuantileTransformer\n\nstart_time = time.time()",
      "execution_count": null,
      "outputs": []
    },
    {
      "metadata": {
        "trusted": true,
        "_uuid": "c37eb95e5502d708ed8b7eb7afef1dcd01c5aa2f"
      },
      "cell_type": "code",
      "source": "_X = X[:len(Y)]\nXt = X[len(Y):]\nX = _X",
      "execution_count": null,
      "outputs": []
    },
    {
      "metadata": {
        "trusted": true,
        "_uuid": "603fd8de8056056a133dd099530ee3be6a3c79c7"
      },
      "cell_type": "code",
      "source": "clf = make_pipeline(QuantileTransformer(output_distribution='normal'), GaussianNB())\nclf.fit( X, Y )",
      "execution_count": null,
      "outputs": []
    },
    {
      "metadata": {
        "trusted": true,
        "_uuid": "4bd4692e8326c2e025b4eb35cbe77f699797b32e"
      },
      "cell_type": "code",
      "source": "y_diff = Y - clf.predict_proba( X )[:,1]",
      "execution_count": null,
      "outputs": []
    },
    {
      "metadata": {
        "trusted": true,
        "_uuid": "746f6ef9f2714d6a03bb153b9027da3d9fc510bd"
      },
      "cell_type": "code",
      "source": "yt_nb = clf.predict_proba( Xt )[:,1]",
      "execution_count": null,
      "outputs": []
    },
    {
      "metadata": {
        "trusted": true,
        "_uuid": "5bef1a464955d4dcdd6fdba5fbb78271089d9475"
      },
      "cell_type": "code",
      "source": "Y = y_diff",
      "execution_count": null,
      "outputs": []
    },
    {
      "metadata": {
        "trusted": true,
        "_uuid": "ef8bd45d661ed7904dc61945e62854975a444a79"
      },
      "cell_type": "code",
      "source": "# start training of LightGBM\n\nimport lightgbm as lgb\nfrom sklearn.model_selection import KFold",
      "execution_count": null,
      "outputs": []
    },
    {
      "metadata": {
        "trusted": true,
        "_uuid": "0b1dfafdc57299859c32d6d6b965b13e0a462de7"
      },
      "cell_type": "code",
      "source": "n_predict = 0\nvalid = np.zeros( (len(test_ID),) )\nfor fold_id, (IDX_train, IDX_test) in enumerate(KFold(n_splits=10, random_state=random_state, shuffle=False).split(Y)):\n\tX_train = X[IDX_train]\n\tX_test = X[IDX_test]\n\tY_train = Y[IDX_train]\n\tY_test = Y[IDX_test]\n\n\tlgb_params = {\n\t\t\"objective\" : \"regression\",\n\t\t\"metric\" : \"mse\",\n\t\t\"max_depth\" : 2,\n\t\t\"num_leaves\" : 2,\n\t\t\"learning_rate\" : 0.055,\n\t\t\"bagging_fraction\" : 0.3,\n\t\t\"feature_fraction\" : 0.15,\n\t\t\"lambda_l1\" : 5,\n\t\t\"lambda_l2\" : 5,\n\t\t\"bagging_seed\" : fold_id+random_state,\n\t\t\"verbosity\" : 1,\n\t\t\"seed\": fold_id+random_state\n\t}\n\n\tlgtrain = lgb.Dataset(X_train, label=Y_train)\n\tlgtest = lgb.Dataset(X_test, label=Y_test)\n\tevals_result = {}\n\tlgb_clf = lgb.train(lgb_params, lgtrain, 35000, \n\t\t\t\t\t\tvalid_sets=[lgtrain, lgtest], \n\t\t\t\t\t\tearly_stopping_rounds=500, \n\t\t\t\t\t\tverbose_eval=2000, \n\t\t\t\t\t\tevals_result=evals_result)\n\tvalid += lgb_clf.predict( Xt ).reshape((-1,))\n\tn_predict += 1\n\tif time.time() - start_time > 6900:\n\t\tbreak",
      "execution_count": null,
      "outputs": []
    },
    {
      "metadata": {
        "trusted": true,
        "_uuid": "e832681e6b842f5b2c8228501d3569c44f88c19e"
      },
      "cell_type": "code",
      "source": "valid = (valid / n_predict) + yt_nb\nvalid = np.clip( valid, 0.0, 1.0 )\n\npd.DataFrame({'MachineIdentifier':test_ID,'HasDetections':valid}).to_csv('submission.csv',index=False)\nprint('done.')",
      "execution_count": null,
      "outputs": []
    },
    {
      "metadata": {
        "trusted": true,
        "_uuid": "6b97696e66b4899488cdbe0b79a6ff443346780d"
      },
      "cell_type": "code",
      "source": "",
      "execution_count": null,
      "outputs": []
    },
    {
      "metadata": {
        "trusted": true,
        "_uuid": "1a5bb54f56ed2aec0a7d6bfe37513a957e7a55d5"
      },
      "cell_type": "code",
      "source": "",
      "execution_count": null,
      "outputs": []
    }
  ],
  "metadata": {
    "kernelspec": {
      "display_name": "Python 3",
      "language": "python",
      "name": "python3"
    }
  },
  "nbformat": 4,
  "nbformat_minor": 1
}