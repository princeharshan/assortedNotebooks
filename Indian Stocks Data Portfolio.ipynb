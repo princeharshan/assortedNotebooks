{
 "cells": [
  {
   "cell_type": "markdown",
   "metadata": {},
   "source": [
    "# Indian Stock Data API"
   ]
  },
  {
   "cell_type": "code",
   "execution_count": 2,
   "metadata": {},
   "outputs": [],
   "source": [
    "import numpy as np\n",
    "import pandas as pd\n",
    "import quandl\n",
    "import datetime\n",
    "import matplotlib.pyplot as plt\n",
    "%matplotlib inline\n",
    "%config InlineBackend.figure_format = 'retina'"
   ]
  },
  {
   "cell_type": "code",
   "execution_count": 3,
   "metadata": {},
   "outputs": [
    {
     "name": "stdout",
     "output_type": "stream",
     "text": [
      "AnsDF.csv\r\n",
      "\u001b[31mNSE-datasets-codes.csv\u001b[m\u001b[m\r\n",
      "\u001b[31mtwo-sigma-financial-news-publicleaderboard.csv\u001b[m\u001b[m\r\n"
     ]
    }
   ],
   "source": [
    "!ls *csv"
   ]
  },
  {
   "cell_type": "code",
   "execution_count": 4,
   "metadata": {},
   "outputs": [],
   "source": [
    "# Define lookback here\n",
    "delta = datetime.timedelta(days=2)\n",
    "quandl.ApiConfig.api_key = 'PpskwLwzWCtyMaFCxiuQ'\n",
    "\n",
    "end_date = pd.to_datetime(datetime.datetime.today())\n",
    "start_date = pd.to_datetime(datetime.datetime.today() - delta)"
   ]
  },
  {
   "cell_type": "code",
   "execution_count": 5,
   "metadata": {},
   "outputs": [],
   "source": [
    "stock_codes = pd.read_csv('NSE-datasets-codes.csv', names = ['code','Co.'])"
   ]
  },
  {
   "cell_type": "code",
   "execution_count": 6,
   "metadata": {},
   "outputs": [],
   "source": [
    "stock_codes['Ticker'] = stock_codes.code+'.5'"
   ]
  },
  {
   "cell_type": "code",
   "execution_count": 7,
   "metadata": {},
   "outputs": [],
   "source": [
    "stock_codes = list(stock_codes.Ticker)"
   ]
  },
  {
   "cell_type": "code",
   "execution_count": 8,
   "metadata": {},
   "outputs": [],
   "source": [
    "stock_codes = stock_codes[-20:]"
   ]
  },
  {
   "cell_type": "code",
   "execution_count": 9,
   "metadata": {},
   "outputs": [],
   "source": [
    "df = quandl.get(stock_codes, start_date = start_date, end_date = end_date)"
   ]
  },
  {
   "cell_type": "code",
   "execution_count": 10,
   "metadata": {},
   "outputs": [],
   "source": [
    "columns = []\n",
    "\n",
    "for i in df.columns:\n",
    "    dew = i.split('/')[1].split(' ')[0]\n",
    "    columns.append(dew)\n",
    "df.columns = columns"
   ]
  },
  {
   "cell_type": "code",
   "execution_count": 11,
   "metadata": {},
   "outputs": [
    {
     "data": {
      "text/html": [
       "<div>\n",
       "<style scoped>\n",
       "    .dataframe tbody tr th:only-of-type {\n",
       "        vertical-align: middle;\n",
       "    }\n",
       "\n",
       "    .dataframe tbody tr th {\n",
       "        vertical-align: top;\n",
       "    }\n",
       "\n",
       "    .dataframe thead th {\n",
       "        text-align: right;\n",
       "    }\n",
       "</style>\n",
       "<table border=\"1\" class=\"dataframe\">\n",
       "  <thead>\n",
       "    <tr style=\"text-align: right;\">\n",
       "      <th></th>\n",
       "      <th>ADROITINFO</th>\n",
       "      <th>ICICIB22</th>\n",
       "      <th>JTEKTINDIA</th>\n",
       "      <th>CHEMFAB</th>\n",
       "      <th>DCMFINSERV</th>\n",
       "      <th>3PLAND</th>\n",
       "      <th>PRSMJOHNSN</th>\n",
       "      <th>HITECH</th>\n",
       "      <th>ORIENTELEC</th>\n",
       "      <th>ICICI500</th>\n",
       "      <th>INDOSTAR</th>\n",
       "      <th>BOROSIL</th>\n",
       "      <th>PITTIENG</th>\n",
       "      <th>IBULISL</th>\n",
       "      <th>ADANIGREEN</th>\n",
       "      <th>ELECTROSL</th>\n",
       "      <th>MODIRUBBER</th>\n",
       "      <th>SOLARA</th>\n",
       "      <th>GAYAHWS</th>\n",
       "      <th>TALWGYM</th>\n",
       "    </tr>\n",
       "  </thead>\n",
       "  <tbody>\n",
       "  </tbody>\n",
       "</table>\n",
       "</div>"
      ],
      "text/plain": [
       "Empty DataFrame\n",
       "Columns: [ADROITINFO, ICICIB22, JTEKTINDIA, CHEMFAB, DCMFINSERV, 3PLAND, PRSMJOHNSN, HITECH, ORIENTELEC, ICICI500, INDOSTAR, BOROSIL, PITTIENG, IBULISL, ADANIGREEN, ELECTROSL, MODIRUBBER, SOLARA, GAYAHWS, TALWGYM]\n",
       "Index: []"
      ]
     },
     "execution_count": 11,
     "metadata": {},
     "output_type": "execute_result"
    }
   ],
   "source": [
    "df"
   ]
  },
  {
   "cell_type": "code",
   "execution_count": null,
   "metadata": {},
   "outputs": [],
   "source": []
  }
 ],
 "metadata": {
  "kernelspec": {
   "display_name": "Python 3",
   "language": "python",
   "name": "python3"
  },
  "language_info": {
   "codemirror_mode": {
    "name": "ipython",
    "version": 3
   },
   "file_extension": ".py",
   "mimetype": "text/x-python",
   "name": "python",
   "nbconvert_exporter": "python",
   "pygments_lexer": "ipython3",
   "version": "3.7.1"
  }
 },
 "nbformat": 4,
 "nbformat_minor": 2
}
